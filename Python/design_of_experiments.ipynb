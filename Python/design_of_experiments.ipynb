{
 "cells": [
  {
   "cell_type": "markdown",
   "metadata": {},
   "source": [
    "# Design of Experiments (DoE)\n",
    "Hiromasa Kaneko\n",
    "\n",
    "## Outputs are 'all_experiments.csv' and 'selected_experiments.csv'\n",
    "## 'all_experiments.csv' includes all possible experiments and\n",
    "## 'selected_experiments.csv' includes experiments selected from them.\n",
    "\n",
    "## In settings, you can change the contents of 'variable1', 'variable2' and 'variable3',\n",
    "## delete 'variable3', and add 'variable4', 'variable5', ... after 'variable3'"
   ]
  },
  {
   "cell_type": "code",
   "execution_count": null,
   "metadata": {
    "collapsed": true
   },
   "outputs": [],
   "source": [
    "import numpy as np\n",
    "import pandas as pd\n",
    "from numpy import matlib"
   ]
  },
  {
   "cell_type": "code",
   "execution_count": null,
   "metadata": {
    "collapsed": true
   },
   "outputs": [],
   "source": [
    "# settings\n",
    "number_of_experiments = 30\n",
    "variables = {'variable1': [1, 2, 3, 4, 5],\n",
    "             'variable2': [-10, 0, 10, 20],\n",
    "             'variable3': [0.2, 0.6, 0.8, 1, 1.2]\n",
    "             }\n",
    "# you can add 'variable4', 'variable5', ... after 'variable3' as well "
   ]
  },
  {
   "cell_type": "code",
   "execution_count": null,
   "metadata": {
    "collapsed": true
   },
   "outputs": [],
   "source": [
    "# make all possible experiments\n",
    "all_experiments = np.array(variables['variable1'])\n",
    "all_experiments = np.reshape(all_experiments, (all_experiments.shape[0], 1))\n",
    "for variable_number in range(2, len(variables) + 1):\n",
    "    grid_seed = variables['variable{0}'.format(variable_number)]\n",
    "    grid_seed_tmp = matlib.repmat(grid_seed, all_experiments.shape[0], 1)\n",
    "    all_experiments = np.c_[matlib.repmat(all_experiments, len(grid_seed), 1),\n",
    "                            np.reshape(grid_seed_tmp.T, (np.prod(grid_seed_tmp.shape), 1))]"
   ]
  },
  {
   "cell_type": "code",
   "execution_count": null,
   "metadata": {
    "collapsed": true
   },
   "outputs": [],
   "source": [
    "all_experiments_df = pd.DataFrame(all_experiments)\n",
    "all_experiments_df.to_csv('all_experiments.csv', header=False, index=False)"
   ]
  },
  {
   "cell_type": "code",
   "execution_count": null,
   "metadata": {
    "collapsed": true
   },
   "outputs": [],
   "source": [
    "# select experiments\n",
    "autoscaled_all_experiments = (all_experiments - all_experiments.mean(axis=0)) / all_experiments.std(axis=0, ddof=1)\n",
    "for experiment_number in range(all_experiments.shape[0] - number_of_experiments):\n",
    "    determinants = []\n",
    "    autoscaled_all_experiments_tmp = autoscaled_all_experiments.copy()\n",
    "    for calc_determinant_number in range(all_experiments.shape[0]):\n",
    "        autoscaled_all_experiments_tmp = np.delete(autoscaled_all_experiments, calc_determinant_number, 0)\n",
    "        determinants.append(np.linalg.det(np.dot(autoscaled_all_experiments_tmp.T, autoscaled_all_experiments_tmp)))\n",
    "    selected_number = np.where(determinants == max(determinants))[0][0]\n",
    "    all_experiments = np.delete(all_experiments, selected_number, 0)\n",
    "    autoscaled_all_experiments = np.delete(autoscaled_all_experiments, selected_number, 0)"
   ]
  },
  {
   "cell_type": "code",
   "execution_count": null,
   "metadata": {
    "collapsed": true
   },
   "outputs": [],
   "source": [
    "selected_experiments_df = pd.DataFrame(all_experiments)\n",
    "selected_experiments_df.to_csv('selected_experiments.csv', header=False, index=False)"
   ]
  }
 ],
 "metadata": {
  "kernelspec": {
   "display_name": "Python 3",
   "language": "python",
   "name": "python3"
  },
  "language_info": {
   "codemirror_mode": {
    "name": "ipython",
    "version": 3
   },
   "file_extension": ".py",
   "mimetype": "text/x-python",
   "name": "python",
   "nbconvert_exporter": "python",
   "pygments_lexer": "ipython3",
   "version": "3.6.0"
  }
 },
 "nbformat": 4,
 "nbformat_minor": 2
}
